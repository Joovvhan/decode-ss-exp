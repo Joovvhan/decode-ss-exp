{
 "cells": [
  {
   "cell_type": "code",
   "execution_count": 83,
   "metadata": {},
   "outputs": [],
   "source": [
    "from glob import glob\n",
    "from collections import namedtuple\n",
    "\n",
    "import json\n",
    "import csv"
   ]
  },
  {
   "cell_type": "code",
   "execution_count": 107,
   "metadata": {},
   "outputs": [],
   "source": [
    "OptitrackRecord = namedtuple('optitrack_record', ('id', 'x', 'y', 'z', 'qw', 'qx', 'qy', 'qz'))\n",
    "\n",
    "ZigRecord = namedtuple('zig_record', ('id', 'x', 'y', 'z', 'yaw', 'pitch', 'distance'))"
   ]
  },
  {
   "cell_type": "code",
   "execution_count": 110,
   "metadata": {},
   "outputs": [
    {
     "name": "stdout",
     "output_type": "stream",
     "text": [
      "optitrack_record(id=-1, x=-2.5, y=3.3, z=4.2, qw=0.1, qx=0.3, qy=0.2, qz=0.4)\n",
      "zig_record(id=-1, x=-2.5, y=3.3, z=4.2, yaw=-60, pitch=80, distance=2)\n"
     ]
    }
   ],
   "source": [
    "print(OptitrackRecord(-1, *(-2.5, 3.3, 4.2), *(0.1, 0.3, 0.2, 0.4)))\n",
    "\n",
    "print(ZigRecord(-1, *(-2.5, 3.3, 4.2), *(-60, 80), 2))\n"
   ]
  },
  {
   "cell_type": "code",
   "execution_count": 111,
   "metadata": {},
   "outputs": [
    {
     "name": "stdout",
     "output_type": "stream",
     "text": [
      "['exp1.txt']\n"
     ]
    }
   ],
   "source": [
    "experiment_files = [file for file in glob('*.txt') if 'exp' in file]\n",
    "\n",
    "print(experiment_files)\n"
   ]
  },
  {
   "cell_type": "code",
   "execution_count": 113,
   "metadata": {},
   "outputs": [
    {
     "name": "stdout",
     "output_type": "stream",
     "text": [
      "exp1.txt\n"
     ]
    }
   ],
   "source": [
    "experiment_file = experiment_files[0]\n",
    "\n",
    "print(experiment_file)\n"
   ]
  },
  {
   "cell_type": "code",
   "execution_count": 114,
   "metadata": {},
   "outputs": [
    {
     "name": "stdout",
     "output_type": "stream",
     "text": [
      "exp1.csv\n"
     ]
    }
   ],
   "source": [
    "csv_file_name = experiment_file.replace('.txt', '.csv')\n",
    "\n",
    "print(csv_file_name)\n"
   ]
  },
  {
   "cell_type": "code",
   "execution_count": 148,
   "metadata": {},
   "outputs": [],
   "source": [
    "def organize_opti_record(data_as_list):\n",
    "    \n",
    "    assert len(data_as_list) == 25, f'Length of Optitrack Record is Not 25, {len(data_as_list)}'\n",
    "    \n",
    "    button_pushed = bool(int(float(data_as_list[0])))\n",
    "    \n",
    "    zig_id = int(float(data_as_list[1]))\n",
    "    zig_position = data_as_list[2:5]\n",
    "    zig_quaternion = data_as_list[5:9]\n",
    "    \n",
    "    p1_id = int(float(data_as_list[9]))\n",
    "    p1_position = data_as_list[10:13]\n",
    "    p1_quaternion = data_as_list[13:17]\n",
    "    \n",
    "    p2_id = int(float(data_as_list[17]))\n",
    "    p2_position = data_as_list[18:21]\n",
    "    p2_quaternion = data_as_list[21:25]\n",
    "    \n",
    "    zig_opti_record = OptitrackRecord(zig_id, *zig_position, *zig_quaternion)\n",
    "    p1_opti_record = OptitrackRecord(p1_id, *p1_position, *p1_quaternion)\n",
    "    p2_opti_record = OptitrackRecord(p2_id, *p2_position, *p2_quaternion)\n",
    "    \n",
    "    return button_pushed, zig_opti_record, p1_opti_record, p2_opti_record\n",
    "    \n",
    "    \n",
    "def organize_zig_record(data_as_dict_list):\n",
    "    \n",
    "    current_time = data_as_dict_list[0]['current_time']\n",
    "    \n",
    "    person_info_list = list()\n",
    "    for person_info in data_as_dict_list[1:]:\n",
    "        person_zig_record = ZigRecord(person_info['id'], \n",
    "                                      *person_info['position_head'],\n",
    "                                      *person_info[\"yaw/pitch\"],\n",
    "                                      person_info[\"r_distance\"],\n",
    "                                     )\n",
    "        person_info_list.append(person_zig_record)\n",
    "    \n",
    "    return current_time, person_info_list"
   ]
  },
  {
   "cell_type": "code",
   "execution_count": 149,
   "metadata": {
    "scrolled": false
   },
   "outputs": [],
   "source": [
    "recording_start_time = None\n",
    "\n",
    "with open(csv_file_name, 'w') as csv_file:\n",
    "    \n",
    "    csv_writer = csv.writer(csv_file)\n",
    "    \n",
    "    csv_writer.writerow(['Current Time', 'Relative Time', 'Button Pushed',\n",
    "                        'Zig ID', 'Zig X', 'Zig Y', 'Zig Z', \n",
    "                        'Zig Qw', 'Zig Qx', 'Zig Qy', 'Zig Qz',\n",
    "                        'P1 ID', 'P1 X', 'P1 Y', 'P1 Z', \n",
    "                        'P1 Qw', 'P1 Qx', 'P1 Qy', 'P1 Qz',\n",
    "                        'P2 ID', 'P2 X', 'P2 Y', 'P2 Z', \n",
    "                        'P2 Qw', 'P2 Qx', 'P2 Qy', 'P2 Qz',\n",
    "                        'Zig 1 ID', 'Zig 1 X', 'Zig 1 Y', 'Zig 1 Z', \n",
    "                        'Zig 1 Yaw', 'Zig 1 Pitch', 'Zig 1 Distance',\n",
    "                        'Zig 2 ID', 'Zig 2 X', 'Zig 2 Y', 'Zig 2 Z', \n",
    "                        'Zig 2 Yaw', 'Zig 2 Pitch', 'Zig 2 Distance',\n",
    "                        ])\n",
    "\n",
    "    with open(experiment_file, 'r') as f:\n",
    "        for i, line in enumerate(f):\n",
    "\n",
    "            split_index = line.rfind(']') + 1\n",
    "\n",
    "            optitrack_record = line[split_index:].strip().split('\\t')\n",
    "\n",
    "            button_pushed, zig_opti_record, p1_opti_record, p2_opti_record = organize_opti_record(optitrack_record)\n",
    "\n",
    "            zig_text = line[:split_index]\n",
    "            zig_record = json.loads(zig_text)\n",
    "\n",
    "            current_time, zig_person_info_list = organize_zig_record(zig_record)\n",
    "\n",
    "            if i == 0:\n",
    "                recording_start_time = current_time\n",
    "\n",
    "            relative_time = current_time - recording_start_time\n",
    "            \n",
    "            csv_record = [current_time, relative_time, button_pushed]\n",
    "            \n",
    "            csv_record.extend([*zig_opti_record])\n",
    "            csv_record.extend([*p1_opti_record])\n",
    "            csv_record.extend([*p2_opti_record])\n",
    "            \n",
    "            for zig_person_info in zig_person_info_list:\n",
    "                csv_record.extend([*zig_person_info])\n",
    "            \n",
    "            if '*' not in zig_text: \n",
    "                csv_writer.writerow(csv_record)\n",
    "            else:\n",
    "                csv_writer.writerow(zig_text)\n",
    "            \n",
    "            "
   ]
  }
 ],
 "metadata": {
  "kernelspec": {
   "display_name": "Python 3",
   "language": "python",
   "name": "python3"
  },
  "language_info": {
   "codemirror_mode": {
    "name": "ipython",
    "version": 3
   },
   "file_extension": ".py",
   "mimetype": "text/x-python",
   "name": "python",
   "nbconvert_exporter": "python",
   "pygments_lexer": "ipython3",
   "version": "3.7.4"
  }
 },
 "nbformat": 4,
 "nbformat_minor": 4
}
